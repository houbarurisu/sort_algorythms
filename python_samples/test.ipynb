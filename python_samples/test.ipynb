{
 "cells": [
  {
   "cell_type": "code",
   "execution_count": 1,
   "metadata": {},
   "outputs": [
    {
     "name": "stdout",
     "output_type": "stream",
     "text": [
      "[1 1 2 3 4 5 6 9]\n",
      "[1 1 2 3 4 5 6 9]\n"
     ]
    }
   ],
   "source": [
    "from mypysort import bubble_sort\n",
    "from mypysort import quick_sort\n",
    "import numpy as np\n",
    "\n",
    "a = np.array([3, 1, 4, 1, 5, 9, 2, 6])\n",
    "\n",
    "b = bubble_sort.sort(a)\n",
    "c = quick_sort.sort(a)\n",
    "\n",
    "print(b)\n",
    "print(c)"
   ]
  }
 ],
 "metadata": {
  "kernelspec": {
   "display_name": "Python 3 (ipykernel)",
   "language": "python",
   "name": "python3"
  },
  "language_info": {
   "codemirror_mode": {
    "name": "ipython",
    "version": 3
   },
   "file_extension": ".py",
   "mimetype": "text/x-python",
   "name": "python",
   "nbconvert_exporter": "python",
   "pygments_lexer": "ipython3",
   "version": "3.10.12"
  }
 },
 "nbformat": 4,
 "nbformat_minor": 4
}
